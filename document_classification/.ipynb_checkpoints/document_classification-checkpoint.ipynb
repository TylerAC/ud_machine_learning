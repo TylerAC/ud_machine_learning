{
 "cells": [
  {
   "cell_type": "code",
   "execution_count": 1,
   "metadata": {},
   "outputs": [],
   "source": [
    "import numpy as np\n",
    "import matplotlib.pyplot as plt\n",
    "from sklearn.datasets import fetch_20newsgroups\n",
    "from sklearn.model_selection import train_test_split\n",
    "%matplotlib inline"
   ]
  },
  {
   "cell_type": "markdown",
   "metadata": {},
   "source": [
    "### 数据准备"
   ]
  },
  {
   "cell_type": "code",
   "execution_count": 2,
   "metadata": {},
   "outputs": [],
   "source": [
    "remove = ()\n",
    "news_groups_train = fetch_20newsgroups(data_home='.', subset='train', remove=remove)\n",
    "news_groups_test = fetch_20newsgroups(data_home='.', subset='test', remove=remove)\n",
    "x_train, y_train = news_groups_train.data, news_groups_train.target\n",
    "x_sp_train, x_sp_val, y_sp_train, y_sp_val = train_test_split(x_train, y_train, test_size=0.2, random_state=0)\n",
    "x_test, y_test = news_groups_test.data, news_groups_test.target"
   ]
  },
  {
   "cell_type": "markdown",
   "metadata": {},
   "source": [
    "### 数据探索"
   ]
  },
  {
   "cell_type": "code",
   "execution_count": 3,
   "metadata": {},
   "outputs": [
    {
     "name": "stdout",
     "output_type": "stream",
     "text": [
      "['alt.atheism', 'comp.graphics', 'comp.os.ms-windows.misc', 'comp.sys.ibm.pc.hardware', 'comp.sys.mac.hardware', 'comp.windows.x', 'misc.forsale', 'rec.autos', 'rec.motorcycles', 'rec.sport.baseball', 'rec.sport.hockey', 'sci.crypt', 'sci.electronics', 'sci.med', 'sci.space', 'soc.religion.christian', 'talk.politics.guns', 'talk.politics.mideast', 'talk.politics.misc', 'talk.religion.misc']\n"
     ]
    }
   ],
   "source": [
    "print(news_groups_train.target_names)"
   ]
  },
  {
   "cell_type": "code",
   "execution_count": 4,
   "metadata": {},
   "outputs": [
    {
     "name": "stdout",
     "output_type": "stream",
     "text": [
      "20类新闻包样本总数 9051 2263 7532\n",
      "20类新闻包训练集总数: 11314 测试集总数: 7532\n",
      "训练集数: 9051\n",
      "验证集数: 2263\n",
      "测试集数: 7532\n"
     ]
    }
   ],
   "source": [
    "print(\"20类新闻包样本总数\", len(x_sp_train), len(x_sp_val), len(x_test))\n",
    "print(\"20类新闻包训练集总数:\", len(x_sp_train) + len(x_sp_val), \"测试集总数:\", len(x_test))\n",
    "print(\"训练集数:\", len(x_sp_train))\n",
    "print(\"验证集数:\", len(x_sp_val))\n",
    "print(\"测试集数:\", len(x_test))"
   ]
  },
  {
   "cell_type": "code",
   "execution_count": 5,
   "metadata": {
    "scrolled": true
   },
   "outputs": [
    {
     "name": "stdout",
     "output_type": "stream",
     "text": [
      "From: djf@cck.coventry.ac.uk (Marvin Batty)\n",
      "Subject: Re: Moonbase race\n",
      "Nntp-Posting-Host: cc_sysk\n",
      "Organization: Starfleet, Coventry, UK\n",
      "Lines: 22\n",
      "\n",
      "In article <1r46o9INN14j@mojo.eng.umd.edu> sysmgr@king.eng.umd.edu writes:\n",
      ">In article <C5tEIK.7z9@zoo.toronto.edu>, henry@zoo.toronto.edu (Henry Spencer) writes:\n",
      ">\n",
      ">>Apollo was done the hard way, in a big hurry, from a very limited\n",
      ">>technology base... and on government contracts.  Just doing it privately,\n",
      ">>rather than as a government project, cuts costs by a factor of several.\n",
      ">\n",
      ">So how much would it cost as a private venture, assuming you could talk the\n",
      ">U.S. government into leasing you a couple of pads in Florida? \n",
      ">\n",
      "Why use a ground launch pad. It is entirely posible to launch from altitude.\n",
      "This was what the Shuttle was originally intended to do! It might be seriously\n",
      "cheaper. \n",
      "\n",
      "Also, what about bio-engineered CO2 absorbing plants instead of many LOX bottles?\n",
      "Stick 'em in a lunar cave and put an airlock on the door.\n",
      "\n",
      "-- \n",
      "****************************************************************************  \n",
      "                  Marvin Batty - djf@uk.ac.cov.cck\n",
      "\"And they shall not find those things, with a sort of rafia like base,\n",
      "that their fathers put there just the night before. At about 8 O'clock!\"\n",
      "\n"
     ]
    }
   ],
   "source": [
    "print(x_sp_train[10])"
   ]
  },
  {
   "cell_type": "code",
   "execution_count": 6,
   "metadata": {},
   "outputs": [
    {
     "name": "stdout",
     "output_type": "stream",
     "text": [
      "14\n"
     ]
    }
   ],
   "source": [
    "print(y_sp_train[10])"
   ]
  },
  {
   "cell_type": "markdown",
   "metadata": {},
   "source": [
    "### 数据展示"
   ]
  },
  {
   "cell_type": "code",
   "execution_count": 7,
   "metadata": {},
   "outputs": [],
   "source": [
    "def show_distributation(data):\n",
    "    dict = {}\n",
    "    for index, name in enumerate(news_groups_train.target_names):\n",
    "        dict.setdefault(name, np.sum(data==index))\n",
    "    print(dict)\n",
    "    print(dict.keys())\n",
    "    print(dict.values())\n",
    "    \n",
    "    index = np.arange(len(news_groups_train.target_names))\n",
    "    plt.figure(figsize=(10,5))\n",
    "    plt.bar(index, dict.values())\n",
    "    plt.xticks(index, dict.keys(), rotation=90)\n",
    "    plt.title(\"category distributation\")\n",
    "    plt.xlabel(\"data count\")\n",
    "    plt.ylabel(\"data category\")\n",
    "    plt.show()"
   ]
  },
  {
   "cell_type": "code",
   "execution_count": 8,
   "metadata": {
    "scrolled": true
   },
   "outputs": [
    {
     "name": "stdout",
     "output_type": "stream",
     "text": [
      "{'alt.atheism': 392, 'comp.graphics': 456, 'comp.os.ms-windows.misc': 478, 'comp.sys.ibm.pc.hardware': 462, 'comp.sys.mac.hardware': 458, 'comp.windows.x': 473, 'misc.forsale': 480, 'rec.autos': 477, 'rec.motorcycles': 470, 'rec.sport.baseball': 478, 'rec.sport.hockey': 485, 'sci.crypt': 465, 'sci.electronics': 469, 'sci.med': 495, 'sci.space': 471, 'soc.religion.christian': 472, 'talk.politics.guns': 431, 'talk.politics.mideast': 452, 'talk.politics.misc': 385, 'talk.religion.misc': 302}\n",
      "dict_keys(['alt.atheism', 'comp.graphics', 'comp.os.ms-windows.misc', 'comp.sys.ibm.pc.hardware', 'comp.sys.mac.hardware', 'comp.windows.x', 'misc.forsale', 'rec.autos', 'rec.motorcycles', 'rec.sport.baseball', 'rec.sport.hockey', 'sci.crypt', 'sci.electronics', 'sci.med', 'sci.space', 'soc.religion.christian', 'talk.politics.guns', 'talk.politics.mideast', 'talk.politics.misc', 'talk.religion.misc'])\n",
      "dict_values([392, 456, 478, 462, 458, 473, 480, 477, 470, 478, 485, 465, 469, 495, 471, 472, 431, 452, 385, 302])\n"
     ]
    },
    {
     "data": {
      "image/png": "[encoded data removed]",
      "text/plain": [
       "<Figure size 720x360 with 1 Axes>"
      ]
     },
     "metadata": {},
     "output_type": "display_data"
    }
   ],
   "source": [
    "show_distributation(y_sp_train)"
   ]
  },
  {
   "cell_type": "code",
   "execution_count": 9,
   "metadata": {},
   "outputs": [
    {
     "name": "stdout",
     "output_type": "stream",
     "text": [
      "{'alt.atheism': 88, 'comp.graphics': 128, 'comp.os.ms-windows.misc': 113, 'comp.sys.ibm.pc.hardware': 128, 'comp.sys.mac.hardware': 120, 'comp.windows.x': 120, 'misc.forsale': 105, 'rec.autos': 117, 'rec.motorcycles': 128, 'rec.sport.baseball': 119, 'rec.sport.hockey': 115, 'sci.crypt': 130, 'sci.electronics': 122, 'sci.med': 99, 'sci.space': 122, 'soc.religion.christian': 127, 'talk.politics.guns': 115, 'talk.politics.mideast': 112, 'talk.politics.misc': 80, 'talk.religion.misc': 75}\n",
      "dict_keys(['alt.atheism', 'comp.graphics', 'comp.os.ms-windows.misc', 'comp.sys.ibm.pc.hardware', 'comp.sys.mac.hardware', 'comp.windows.x', 'misc.forsale', 'rec.autos', 'rec.motorcycles', 'rec.sport.baseball', 'rec.sport.hockey', 'sci.crypt', 'sci.electronics', 'sci.med', 'sci.space', 'soc.religion.christian', 'talk.politics.guns', 'talk.politics.mideast', 'talk.politics.misc', 'talk.religion.misc'])\n",
      "dict_values([88, 128, 113, 128, 120, 120, 105, 117, 128, 119, 115, 130, 122, 99, 122, 127, 115, 112, 80, 75])\n"
     ]
    },
    {
     "data": {
      "image/png": "[encoded data removed]",
      "text/plain": [
       "<Figure size 720x360 with 1 Axes>"
      ]
     },
     "metadata": {},
     "output_type": "display_data"
    }
   ],
   "source": [
    "show_distributation(y_sp_val)"
   ]
  },
  {
   "cell_type": "code",
   "execution_count": 10,
   "metadata": {},
   "outputs": [
    {
     "name": "stdout",
     "output_type": "stream",
     "text": [
      "{'alt.atheism': 319, 'comp.graphics': 389, 'comp.os.ms-windows.misc': 394, 'comp.sys.ibm.pc.hardware': 392, 'comp.sys.mac.hardware': 385, 'comp.windows.x': 395, 'misc.forsale': 390, 'rec.autos': 396, 'rec.motorcycles': 398, 'rec.sport.baseball': 397, 'rec.sport.hockey': 399, 'sci.crypt': 396, 'sci.electronics': 393, 'sci.med': 396, 'sci.space': 394, 'soc.religion.christian': 398, 'talk.politics.guns': 364, 'talk.politics.mideast': 376, 'talk.politics.misc': 310, 'talk.religion.misc': 251}\n",
      "dict_keys(['alt.atheism', 'comp.graphics', 'comp.os.ms-windows.misc', 'comp.sys.ibm.pc.hardware', 'comp.sys.mac.hardware', 'comp.windows.x', 'misc.forsale', 'rec.autos', 'rec.motorcycles', 'rec.sport.baseball', 'rec.sport.hockey', 'sci.crypt', 'sci.electronics', 'sci.med', 'sci.space', 'soc.religion.christian', 'talk.politics.guns', 'talk.politics.mideast', 'talk.politics.misc', 'talk.religion.misc'])\n",
      "dict_values([319, 389, 394, 392, 385, 395, 390, 396, 398, 397, 399, 396, 393, 396, 394, 398, 364, 376, 310, 251])\n"
     ]
    },
    {
     "data": {
      "image/png": "[encoded data removed]",
      "text/plain": [
       "<Figure size 720x360 with 1 Axes>"
      ]
     },
     "metadata": {},
     "output_type": "display_data"
    }
   ],
   "source": [
    "show_distributation(y_test)"
   ]
  },
  {
   "cell_type": "code",
   "execution_count": 11,
   "metadata": {},
   "outputs": [],
   "source": [
    "def show_words(data):\n",
    "    count = []\n",
    "    for f in data:\n",
    "        count.append(len(f.split()))\n",
    "    plt.figure(figsize=(10,5))\n",
    "    plt.hist(count, bins=20)\n",
    "    plt.title(\"words distributation\")\n",
    "    plt.xlabel(\"words count\")\n",
    "    plt.ylabel(\"words weight\")\n",
    "    plt.show()\n",
    "    \n",
    "def show_chars(data):\n",
    "    count = []\n",
    "    for f in data:\n",
    "        count.append(len(f))\n",
    "    plt.figure(figsize=(10,5))\n",
    "    plt.hist(count, bins=20)\n",
    "    plt.title(\"chars distributation\")\n",
    "    plt.xlabel(\"chars count\")\n",
    "    plt.ylabel(\"chars count\")\n",
    "    plt.show()"
   ]
  },
  {
   "cell_type": "code",
   "execution_count": 12,
   "metadata": {
    "scrolled": true
   },
   "outputs": [
    {
     "data": {
      "image/png": "[encoded data removed]",
      "text/plain": [
       "<Figure size 720x360 with 1 Axes>"
      ]
     },
     "metadata": {},
     "output_type": "display_data"
    }
   ],
   "source": [
    "show_words(x_sp_train)"
   ]
  },
  {
   "cell_type": "code",
   "execution_count": 13,
   "metadata": {
    "scrolled": false
   },
   "outputs": [
    {
     "data": {
      "image/png": "[encoded data removed]",
      "text/plain": [
       "<Figure size 720x360 with 1 Axes>"
      ]
     },
     "metadata": {},
     "output_type": "display_data"
    }
   ],
   "source": [
    "show_chars(x_sp_train)"
   ]
  },
  {
   "cell_type": "markdown",
   "metadata": {},
   "source": [
    "## 文本表示模型"
   ]
  },
  {
   "cell_type": "markdown",
   "metadata": {},
   "source": [
    "### BOW"
   ]
  },
  {
   "cell_type": "code",
   "execution_count": 14,
   "metadata": {},
   "outputs": [],
   "source": [
    "from sklearn.feature_extraction.text import CountVectorizer\n",
    "from time import time"
   ]
  },
  {
   "cell_type": "code",
   "execution_count": 15,
   "metadata": {},
   "outputs": [
    {
     "name": "stdout",
     "output_type": "stream",
     "text": [
      "done in 2.070s.\n"
     ]
    }
   ],
   "source": [
    "# refer: http://scikit-learn.org/stable/auto_examples/applications/plot_topics_extraction_with_nmf_lda.html#sphx-glr-auto-examples-applications-plot-topics-extraction-with-nmf-lda-py\n",
    "# max_df = 0.50 means \"ignore terms that appear in more than 50% of the documents\".\n",
    "# max_df = 25 means \"ignore terms that appear in more than 25 documents\".\n",
    "# min_df = 0.01 means \"ignore terms that appear in less than 1% of the documents\".\n",
    "# min_df = 5 means \"ignore terms that appear in less than 5 documents\".\n",
    "    \n",
    "vectorizer = CountVectorizer(max_df=0.97, min_df=3,\n",
    "                                max_features=None,\n",
    "                                stop_words='english')\n",
    "t0 = time()\n",
    "vec_x_train = vectorizer.fit_transform(x_sp_train)\n",
    "print(\"done in %0.3fs.\" % (time() - t0))"
   ]
  },
  {
   "cell_type": "code",
   "execution_count": 16,
   "metadata": {},
   "outputs": [
    {
     "name": "stdout",
     "output_type": "stream",
     "text": [
      "  (0, 5537)\t1\n",
      "  (0, 23072)\t1\n",
      "  (0, 17400)\t1\n",
      "  (0, 8721)\t1\n",
      "  (0, 19929)\t1\n",
      "  (0, 32331)\t1\n",
      "  (0, 32890)\t1\n",
      "  (0, 29219)\t1\n",
      "  (0, 12933)\t1\n",
      "  (0, 27226)\t1\n",
      "  (0, 11278)\t1\n",
      "  (0, 5972)\t1\n",
      "  (0, 6703)\t1\n",
      "  (0, 2653)\t1\n",
      "  (0, 345)\t1\n",
      "  (0, 4530)\t1\n",
      "  (0, 33280)\t1\n",
      "  (0, 18614)\t1\n",
      "  (0, 15522)\t1\n",
      "  (0, 21927)\t1\n",
      "  (0, 6193)\t1\n",
      "  (0, 26040)\t1\n",
      "  (0, 25860)\t1\n",
      "  (0, 30322)\t1\n",
      "  (0, 13759)\t1\n",
      "  :\t:\n",
      "  (9050, 23017)\t1\n",
      "  (9050, 9039)\t1\n",
      "  (9050, 26815)\t1\n",
      "  (9050, 23832)\t1\n",
      "  (9050, 12868)\t1\n",
      "  (9050, 5956)\t2\n",
      "  (9050, 8494)\t1\n",
      "  (9050, 1990)\t1\n",
      "  (9050, 8107)\t1\n",
      "  (9050, 31018)\t2\n",
      "  (9050, 7096)\t1\n",
      "  (9050, 453)\t1\n",
      "  (9050, 17293)\t1\n",
      "  (9050, 24731)\t1\n",
      "  (9050, 9927)\t1\n",
      "  (9050, 14327)\t2\n",
      "  (9050, 30157)\t3\n",
      "  (9050, 17976)\t1\n",
      "  (9050, 22918)\t3\n",
      "  (9050, 23573)\t1\n",
      "  (9050, 33295)\t1\n",
      "  (9050, 9444)\t2\n",
      "  (9050, 32933)\t1\n",
      "  (9050, 11617)\t2\n",
      "  (9050, 22261)\t1\n"
     ]
    }
   ],
   "source": [
    "print(vec_x_train)"
   ]
  },
  {
   "cell_type": "markdown",
   "metadata": {},
   "source": [
    "## TF-IDF"
   ]
  },
  {
   "cell_type": "code",
   "execution_count": 17,
   "metadata": {},
   "outputs": [],
   "source": [
    "from sklearn.feature_extraction.text import TfidfVectorizer"
   ]
  },
  {
   "cell_type": "code",
   "execution_count": 18,
   "metadata": {
    "scrolled": true
   },
   "outputs": [
    {
     "name": "stdout",
     "output_type": "stream",
     "text": [
      "done in 5.935s.\n"
     ]
    }
   ],
   "source": [
    "# refer: http://scikit-learn.org/stable/auto_examples/applications/plot_topics_extraction_with_nmf_lda.html#sphx-glr-auto-examples-applications-plot-topics-extraction-with-nmf-lda-py\n",
    "tfidf_vectorizer = TfidfVectorizer(max_df=0.97, min_df=2,\n",
    "                                max_features=None,\n",
    "                                stop_words='english')\n",
    "t0 = time()\n",
    "tfidf_x_sp_train = tfidf_vectorizer.fit_transform(x_sp_train)\n",
    "tfidf_x_sp_val = tfidf_vectorizer.transform(x_sp_val)\n",
    "\n",
    "tfidf_x_train = tfidf_vectorizer.transform(x_train)\n",
    "tfidf_x_test = tfidf_vectorizer.transform(x_test)\n",
    "print(\"done in %0.3fs.\" % (time() - t0))"
   ]
  },
  {
   "cell_type": "code",
   "execution_count": 19,
   "metadata": {},
   "outputs": [
    {
     "name": "stdout",
     "output_type": "stream",
     "text": [
      "(9051, 49254)\n",
      "(2263, 49254)\n",
      "(11314, 49254)\n",
      "(7532, 49254)\n"
     ]
    }
   ],
   "source": [
    "print(tfidf_x_sp_train.shape)\n",
    "print(tfidf_x_sp_val.shape)\n",
    "print(tfidf_x_train.shape)\n",
    "print(tfidf_x_test.shape)"
   ]
  },
  {
   "cell_type": "code",
   "execution_count": 20,
   "metadata": {
    "scrolled": false
   },
   "outputs": [
    {
     "name": "stdout",
     "output_type": "stream",
     "text": [
      "  (0, 6531)\t0.22547672131238686\n",
      "  (0, 18108)\t0.05419741635179298\n",
      "  (0, 46052)\t0.030606072982409156\n",
      "  (0, 40335)\t0.11015011337594552\n",
      "  (0, 25268)\t0.07987346301365322\n",
      "  (0, 43700)\t0.04700116862960857\n",
      "  (0, 8157)\t0.04238054196688091\n",
      "  (0, 15109)\t0.10447882624095957\n",
      "  (0, 1674)\t0.06198853857973\n",
      "  (0, 1453)\t0.07243094287068748\n",
      "  (0, 2051)\t0.07243094287068748\n",
      "  (0, 33136)\t0.008363216499216836\n",
      "  (0, 6929)\t0.05679156273679379\n",
      "  (0, 13421)\t0.05340624841432061\n",
      "  (0, 27064)\t0.03871798282058418\n",
      "  (0, 22424)\t0.08297421642223916\n",
      "  (0, 45630)\t0.015594069482677818\n",
      "  (0, 4297)\t0.04213992125703991\n",
      "  (0, 2748)\t0.07011882723114268\n",
      "  (0, 2489)\t0.07011882723114268\n",
      "  (0, 31832)\t0.05108821106604819\n",
      "  (0, 39972)\t0.0361475466264802\n",
      "  (0, 45164)\t0.09446162859245455\n",
      "  (0, 17617)\t0.045886923316482225\n",
      "  (0, 43427)\t0.05202507904455907\n",
      "  :\t:\n",
      "  (9050, 7880)\t0.1136516373623598\n",
      "  (9050, 15771)\t0.0757977249702075\n",
      "  (9050, 29114)\t0.1064959243656207\n",
      "  (9050, 43955)\t0.09991069779513628\n",
      "  (9050, 16389)\t0.10486546822555864\n",
      "  (9050, 29512)\t0.0942371481558053\n",
      "  (9050, 10668)\t0.11104476381666477\n",
      "  (9050, 41101)\t0.14293509435418192\n",
      "  (9050, 12192)\t0.12773675942985904\n",
      "  (9050, 32151)\t0.11780102865077789\n",
      "  (9050, 9694)\t0.14293509435418192\n",
      "  (9050, 47104)\t0.1546611572744038\n",
      "  (9050, 6554)\t0.16526160043110638\n",
      "  (9050, 33174)\t0.13054818444947502\n",
      "  (9050, 28893)\t0.3939643479742253\n",
      "  (9050, 47733)\t0.2581807215586419\n",
      "  (9050, 13051)\t0.16103473517375236\n",
      "  (9050, 34751)\t0.13900191496418302\n",
      "  (9050, 2139)\t0.1575811347916651\n",
      "  (9050, 42287)\t0.13900191496418302\n",
      "  (9050, 44405)\t0.14445129205820345\n",
      "  (9050, 29103)\t0.14153131454094212\n",
      "  (9050, 28205)\t0.13785354161354432\n",
      "  (9050, 6459)\t0.15213175769764467\n",
      "  (9050, 43037)\t0.1575811347916651\n"
     ]
    }
   ],
   "source": [
    "print(tfidf_x_sp_train)"
   ]
  },
  {
   "cell_type": "markdown",
   "metadata": {},
   "source": [
    "### Word2vec"
   ]
  },
  {
   "cell_type": "code",
   "execution_count": 21,
   "metadata": {},
   "outputs": [
    {
     "name": "stdout",
     "output_type": "stream",
     "text": [
      "word2vec_model is loaded\n"
     ]
    }
   ],
   "source": [
    "# refer: https://radimrehurek.com/gensim/models/word2vec.html\n",
    "# https://www.programcreek.com/python/example/98848/gensim.models.word2vec.Word2Vec\n",
    "# http://mattmahoney.net/dc/text8.zip\n",
    "import os\n",
    "import gensim\n",
    "from gensim.models import word2vec\n",
    "EMBEDDING_DIM = 100\n",
    "if not os.path.isfile('data/w2c/word2vec_model.model'):\n",
    "    sentences = word2vec.Text8Corpus('data/w2c/text8')\n",
    "    word2vec_model = word2vec.Word2Vec(sentences, size=EMBEDDING_DIM, min_count=1, sg=0)\n",
    "    word2vec_model.save('data/w2c/word2vec_model.model')\n",
    "    print(\"word2vec_model is saved\")\n",
    "word2vec_model = word2vec.Word2Vec.load('data/w2c/word2vec_model.model')\n",
    "print(\"word2vec_model is loaded\")"
   ]
  },
  {
   "cell_type": "markdown",
   "metadata": {},
   "source": [
    "## 机器学习模型"
   ]
  },
  {
   "cell_type": "code",
   "execution_count": 22,
   "metadata": {
    "scrolled": true
   },
   "outputs": [],
   "source": [
    "from sklearn.neural_network import MLPClassifier \n",
    "from sklearn.svm import SVC\n",
    "from sklearn.naive_bayes import MultinomialNB\n",
    "from sklearn.linear_model import LogisticRegression\n",
    "\n",
    "def show_performance(model, x_train, y_train, x_val, y_val):    \n",
    "    results = {}\n",
    "    results['model_name'] = model.__class__.__name__\n",
    "    t0 = time()\n",
    "    model.fit(x_train, y_train)\n",
    "    results['train_time'] = time() - t0\n",
    "    t1 = time()\n",
    "    predicts = model.predict(x_train)\n",
    "    results['val_time'] = time() - t1\n",
    "    train_score = model.score(x_train, y_train)\n",
    "    val_score = model.score(x_val, y_val)\n",
    "    results['train_score'] = train_score\n",
    "    results['val_score'] = val_score\n",
    "    print(results)\n",
    "    \n"
   ]
  },
  {
   "cell_type": "code",
   "execution_count": 23,
   "metadata": {
    "scrolled": true
   },
   "outputs": [
    {
     "name": "stdout",
     "output_type": "stream",
     "text": [
      "{'model_name': 'LogisticRegression', 'train_time': 3.0968220233917236, 'val_time': 0.022253990173339844, 'train_score': 0.9731521378853165, 'val_score': 0.8939460892620416}\n"
     ]
    }
   ],
   "source": [
    "lr = LogisticRegression(C=1.0)\n",
    "show_performance(lr, tfidf_x_sp_train, y_sp_train, tfidf_x_sp_val, y_sp_val)\n"
   ]
  },
  {
   "cell_type": "code",
   "execution_count": 46,
   "metadata": {},
   "outputs": [
    {
     "name": "stdout",
     "output_type": "stream",
     "text": [
      "{'model_name': 'SVC', 'train_time': 66.24444794654846, 'val_time': 53.66359090805054, 'train_score': 0.9821014252568777, 'val_score': 0.9036676977463544}\n"
     ]
    }
   ],
   "source": [
    "svc = SVC(kernel='linear', C= 0.5, gamma = 0.9, random_state=0)\n",
    "show_performance(svc, tfidf_x_sp_train, y_sp_train, tfidf_x_sp_val, y_sp_val)\n"
   ]
  },
  {
   "cell_type": "code",
   "execution_count": 47,
   "metadata": {},
   "outputs": [
    {
     "name": "stdout",
     "output_type": "stream",
     "text": [
      "{'model_name': 'MultinomialNB', 'train_time': 0.06259608268737793, 'val_time': 0.027630090713500977, 'train_score': 0.9953596287703016, 'val_score': 0.9045514803358374}\n"
     ]
    }
   ],
   "source": [
    "gnb = MultinomialNB(alpha=0.01)\n",
    "show_performance(gnb, tfidf_x_sp_train, y_sp_train, tfidf_x_sp_val, y_sp_val)"
   ]
  },
  {
   "cell_type": "markdown",
   "metadata": {},
   "source": [
    "### 优化"
   ]
  },
  {
   "cell_type": "code",
   "execution_count": 48,
   "metadata": {},
   "outputs": [],
   "source": [
    "#refer: http://scikit-learn.org/stable/modules/generated/sklearn.model_selection.GridSearchCV.html\n",
    "from sklearn.model_selection import GridSearchCV\n",
    "from sklearn.tree import DecisionTreeClassifier\n",
    "from sklearn.svm import SVC\n",
    "from sklearn.naive_bayes import MultinomialNB\n",
    "from multiprocessing import cpu_count\n",
    "from sklearn import feature_selection\n",
    "\n",
    "fs = feature_selection.SelectPercentile(feature_selection.chi2, percentile=40)\n",
    "def show_performance_with_gscv(name, model, x_train, y_train, params):\n",
    "    results = {}\n",
    "    results['model_name'] = name\n",
    "    gscv = GridSearchCV(model, params, cv=3, n_jobs=cpu_count()-1, return_train_score=True)\n",
    "#     x_train_fs = fs.fit_transform(x_train, y_train)\n",
    "    \n",
    "    gscv.fit(x_train, y_train)\n",
    "    \n",
    "    results['params'] = gscv.best_params_\n",
    "    results['train_time'] = np.mean(gscv.cv_results_['mean_fit_time'])\n",
    "    results['val_time'] = np.mean(gscv.cv_results_['mean_score_time'])\n",
    "    results['train_score'] = gscv.cv_results_['mean_train_score'][gscv.best_index_]\n",
    "    \n",
    "    # it is get fro train data set, could be taken as a val result\n",
    "    results['val_score'] = gscv.cv_results_['mean_test_score'][gscv.best_index_]\n",
    "    \n",
    "    results['best_model'] = gscv.best_estimator_\n",
    "    \n",
    "    return results\n",
    "        "
   ]
  },
  {
   "cell_type": "code",
   "execution_count": 49,
   "metadata": {},
   "outputs": [
    {
     "name": "stdout",
     "output_type": "stream",
     "text": [
      "{'model_name': 'LogisticRegression', 'params': {'C': 3}, 'train_time': 6.908185693952773, 'val_time': 0.03375524944729275, 'train_score': 0.9928405096358816, 'val_score': 0.9025101643980908, 'best_model': LogisticRegression(C=3, class_weight=None, dual=False, fit_intercept=True,\n",
      "          intercept_scaling=1, max_iter=100, multi_class='ovr', n_jobs=1,\n",
      "          penalty='l2', random_state=None, solver='liblinear', tol=0.0001,\n",
      "          verbose=0, warm_start=False)}\n"
     ]
    }
   ],
   "source": [
    "params = {'C': [0.01, 1, 3]}\n",
    "rs_lr = show_performance_with_gscv('LogisticRegression', LogisticRegression(), tfidf_x_train, y_train, params)\n",
    "print(rs_lr)"
   ]
  },
  {
   "cell_type": "code",
   "execution_count": 28,
   "metadata": {},
   "outputs": [
    {
     "name": "stdout",
     "output_type": "stream",
     "text": [
      "{'model_name': 'SVC', 'params': {'C': 3, 'gamma': 0.5}, 'train_time': 89.05994595421684, 'val_time': 24.836286558045284, 'train_score': 0.9992486986939868, 'val_score': 0.9065759236344352, 'best_model': SVC(C=3, cache_size=200, class_weight=None, coef0=0.0,\n",
      "  decision_function_shape='ovr', degree=3, gamma=0.5, kernel='linear',\n",
      "  max_iter=-1, probability=False, random_state=None, shrinking=True,\n",
      "  tol=0.001, verbose=False)}\n"
     ]
    }
   ],
   "source": [
    "params = {'C': [0.1, 1, 3], 'gamma':[0.5, 0.9]}\n",
    "rs_svc = show_performance_with_gscv('SVC', SVC(kernel='linear'), tfidf_x_train, y_train, params)\n",
    "print(rs_svc)"
   ]
  },
  {
   "cell_type": "code",
   "execution_count": 29,
   "metadata": {},
   "outputs": [
    {
     "name": "stdout",
     "output_type": "stream",
     "text": [
      "{'model_name': 'NaiveBayes', 'params': {'alpha': 0.0001}, 'train_time': 0.14995670318603516, 'val_time': 0.029687616560194224, 'train_score': 0.9983207266996299, 'val_score': 0.8891638677744388, 'best_model': MultinomialNB(alpha=0.0001, class_prior=None, fit_prior=True)}\n"
     ]
    }
   ],
   "source": [
    "params = {'alpha': [0.0001, 0.5, 0.95]}\n",
    "rs_nb = show_performance_with_gscv('NaiveBayes', MultinomialNB(), tfidf_x_train, y_train, params)\n",
    "print(rs_nb)"
   ]
  },
  {
   "cell_type": "code",
   "execution_count": 45,
   "metadata": {},
   "outputs": [
    {
     "data": {
      "image/png": "[encoded data removed]",
      "text/plain": [
       "<Figure size 1152x360 with 1 Axes>"
      ]
     },
     "metadata": {},
     "output_type": "display_data"
    },
    {
     "data": {
      "image/png": "[encoded data removed]",
      "text/plain": [
       "<Figure size 1152x360 with 1 Axes>"
      ]
     },
     "metadata": {},
     "output_type": "display_data"
    }
   ],
   "source": [
    "def autolabel(ax, rects, xpos='center'):\n",
    "        \"\"\"\n",
    "        Attach a text label above each bar in *rects*, displaying its height.\n",
    "\n",
    "        *xpos* indicates which side to place the text w.r.t. the center of\n",
    "        the bar. It can be one of the following {'center', 'right', 'left'}.\n",
    "        \"\"\"\n",
    "\n",
    "        xpos = xpos.lower()  # normalize the case of the parameter\n",
    "        ha = {'center': 'center', 'right': 'left', 'left': 'right'}\n",
    "        offset = {'center': 0.5, 'right': 0.57, 'left': 0.43}  # x_txt = x + w*off\n",
    "\n",
    "        for rect in rects:\n",
    "            height = rect.get_height()\n",
    "            ax.text(rect.get_x() + rect.get_width()*offset[xpos], 1.01*height,\n",
    "                    '{}'.format(height), ha=ha[xpos], va='bottom')\n",
    "            \n",
    "def show_metrics(rs_lr, rs_svc, rs_nb):\n",
    "#     https://matplotlib.org/gallery/lines_bars_and_markers/barchart.html#sphx-glr-gallery-lines-bars-and-markers-barchart-py\n",
    "\n",
    "    train_time = (rs_lr['train_time'], rs_svc['train_time'], rs_nb['train_time'])\n",
    "    val_time = (rs_lr['val_time'], rs_svc['val_time'], rs_nb['val_time'])\n",
    "    \n",
    "    train_score = (rs_lr['train_score'], rs_svc['train_score'], rs_nb['train_score'])\n",
    "    val_score = (rs_lr['val_score'], rs_svc['val_score'], rs_nb['val_score'])\n",
    "\n",
    "    ind = np.arange(len(train_time))  # the x locations for the groups\n",
    "    width = 0.35  # the width of the bars\n",
    "\n",
    "    fig, ax0 = plt.subplots(1, 1, figsize = (16,5))\n",
    "    \n",
    "    rects1 = ax0.bar(ind - width/2, train_time, width,\n",
    "                    color='SkyBlue', label='train time')\n",
    "    rects2 = ax0.bar(ind + width/2, val_time, width,\n",
    "                    color='IndianRed', label='val time')\n",
    "\n",
    "    # Add some text for labels, title and custom x-axis tick labels, etc.\n",
    "    ax0.set_ylabel('time')\n",
    "    ax0.set_title('time by train and val')\n",
    "    ax0.set_xticks(ind)\n",
    "    ax0.set_xticklabels(('LogisticRegression', 'SVC', 'NaiveBayes'))\n",
    "    ax0.legend()\n",
    "    autolabel(ax0, rects1, \"left\")\n",
    "    autolabel(ax0, rects2, \"right\")\n",
    "    plt.show()\n",
    "    \n",
    "    fig, ax1 = plt.subplots(1, 1, figsize = (16,5))\n",
    "    \n",
    "    rects3 = ax1.bar(ind - width/2, train_score, width,\n",
    "                    color='SkyBlue', label='train score')\n",
    "    rects4 = ax1.bar(ind + width/2, val_score, width,\n",
    "                    color='IndianRed', label='val score')\n",
    "    ax1.set_ylabel('Scores')\n",
    "    ax1.set_title('Scores by train and val')\n",
    "    ax1.set_xticks(ind)\n",
    "    ax1.set_xticklabels(('LogisticRegression', 'SVC', 'NaiveBayes'))\n",
    "    ax1.legend()\n",
    "    autolabel(ax1, rects3, \"left\")\n",
    "    autolabel(ax1, rects4, \"right\")\n",
    "    plt.show()\n",
    "    \n",
    "show_metrics(rs_lr, rs_svc, rs_nb)"
   ]
  },
  {
   "cell_type": "code",
   "execution_count": 44,
   "metadata": {},
   "outputs": [
    {
     "name": "stdout",
     "output_type": "stream",
     "text": [
      "LogisticRegression best score 0.8410780669144982\n",
      "svc best score 0.8328465215082316\n",
      "NaiveBayes best score 0.8096123207647371\n"
     ]
    }
   ],
   "source": [
    "# tfidf_x_test_fs = fs.transform(tfidf_x_test)\n",
    "print(\"LogisticRegression best score\", rs_lr['best_model'].score(tfidf_x_test, y_test))\n",
    "print(\"svc best score\", rs_svc['best_model'].score(tfidf_x_test, y_test))\n",
    "print(\"NaiveBayes best score\", rs_nb['best_model'].score(tfidf_x_test, y_test))"
   ]
  },
  {
   "cell_type": "markdown",
   "metadata": {},
   "source": [
    "## text_CNN"
   ]
  },
  {
   "cell_type": "code",
   "execution_count": 35,
   "metadata": {},
   "outputs": [
    {
     "name": "stderr",
     "output_type": "stream",
     "text": [
      "Using TensorFlow backend.\n"
     ]
    }
   ],
   "source": [
    "#https://keras.io/getting-started/sequential-model-guide/\n",
    "#https://github.com/dennybritz/cnn-text-classification-tf\n",
    "from keras.preprocessing.text import Tokenizer, text_to_word_sequence\n",
    "from keras.preprocessing.sequence import pad_sequences\n",
    "from keras.utils import to_categorical\n",
    "from keras.models import Model\n",
    "from keras.layers import Dense, Input, Flatten, Reshape, concatenate, Dropout\n",
    "from keras.layers import Conv1D, Conv2D, MaxPooling1D, MaxPooling2D, Embedding\n",
    "from keras import optimizers\n",
    "from keras.callbacks import EarlyStopping\n",
    "MAX_SEQUENCE_LENGTH = 1000\n",
    "MAX_NUM_WORDS = 20000"
   ]
  },
  {
   "cell_type": "code",
   "execution_count": 36,
   "metadata": {},
   "outputs": [
    {
     "name": "stdout",
     "output_type": "stream",
     "text": [
      "16333\n",
      "18\n"
     ]
    }
   ],
   "source": [
    "words_count = []\n",
    "for i in x_train:\n",
    "    words_count.append(len(text_to_word_sequence(i, split=' ')))\n",
    "print(np.max(words_count))\n",
    "print(np.min(words_count))\n",
    "# 18~ 16333\n",
    "NUM_WORDS = 20000\n",
    "MAX_LEN= 1000\n",
    "EMBEDDING_DIM = 100\n",
    "\n",
    "tokenizer = Tokenizer(num_words=NUM_WORDS)\n",
    "tokenizer.fit_on_texts(x_sp_train)\n",
    "word_index = tokenizer.word_index\n",
    "x_sp_train_dl = pad_sequences(tokenizer.texts_to_sequences(x_sp_train), maxlen=MAX_LEN)\n",
    "y_sp_train_dl = to_categorical(np.asarray(y_sp_train), num_classes=20)\n",
    "\n",
    "x_sp_val_dl = pad_sequences(tokenizer.texts_to_sequences(x_sp_val), maxlen=MAX_LEN)\n",
    "y_sp_val_dl = to_categorical(np.asarray(y_sp_val), num_classes=20)\n",
    "\n",
    "x_test_dl = pad_sequences(tokenizer.texts_to_sequences(x_test), maxlen=MAX_LEN)\n",
    "y_test_dl = to_categorical(np.asarray(y_test), num_classes=20)"
   ]
  },
  {
   "cell_type": "code",
   "execution_count": 37,
   "metadata": {},
   "outputs": [],
   "source": [
    "def text_CNN(embedding_layer):\n",
    "    sequence_input = Input(shape=(MAX_LEN,), dtype='int32')\n",
    "    embedded_sequences = embedding_layer(sequence_input)\n",
    "   \n",
    "    # Yoon Kim model (https://arxiv.org/abs/1408.5882)\n",
    "    \n",
    "    embedded_sequences = Reshape((MAX_LEN, EMBEDDING_DIM, 1))(embedded_sequences)\n",
    "    x = Conv2D(100, (5, EMBEDDING_DIM), activation='relu')(embedded_sequences)\n",
    "    x = MaxPooling2D((MAX_LEN - 5 + 1, 1))(x)\n",
    "\n",
    "    y = Conv2D(100, (4, EMBEDDING_DIM), activation='relu')(embedded_sequences)\n",
    "    y = MaxPooling2D((MAX_LEN - 4 + 1, 1))(y)\n",
    "\n",
    "    z = Conv2D(100, (3, EMBEDDING_DIM), activation='relu')(embedded_sequences)\n",
    "    z = MaxPooling2D((MAX_LEN - 3 + 1, 1))(z)\n",
    "\n",
    "    alpha = concatenate([x,y,z])\n",
    "    alpha = Flatten()(alpha)\n",
    "    alpha = Dropout(0.5)(alpha)\n",
    "    preds = Dense(len(news_groups_train.target_names), activation='softmax')(alpha)\n",
    "    model = Model(sequence_input, preds)\n",
    "    adadelta = optimizers.Adadelta()\n",
    "        \n",
    "    model.compile(loss='categorical_crossentropy',\n",
    "                  optimizer=adadelta,\n",
    "                  metrics=['acc'])\n",
    "    return model"
   ]
  },
  {
   "cell_type": "code",
   "execution_count": 38,
   "metadata": {},
   "outputs": [],
   "source": [
    "def show_history(history):\n",
    "    plt.plot(history['acc'])\n",
    "    plt.plot(history['val_acc'])\n",
    "    plt.title('model accuracy')\n",
    "    plt.ylabel('accuracy')\n",
    "    plt.xlabel('epoch')\n",
    "    plt.legend(['train', 'test'], loc='upper left')\n",
    "    plt.show()\n",
    "    # summarize history for loss\n",
    "    plt.plot(history['loss'])\n",
    "    plt.plot(history['val_loss'])\n",
    "    plt.title('model loss')\n",
    "    plt.ylabel('loss')\n",
    "    plt.xlabel('epoch')\n",
    "    plt.legend(['train', 'test'], loc='upper left')\n",
    "    plt.show()"
   ]
  },
  {
   "cell_type": "code",
   "execution_count": 39,
   "metadata": {
    "scrolled": false
   },
   "outputs": [
    {
     "name": "stderr",
     "output_type": "stream",
     "text": [
      "/Users/i331096/anaconda3/envs/py3/lib/python3.6/site-packages/ipykernel_launcher.py:7: DeprecationWarning: Call to deprecated `__contains__` (Method will be removed in 4.0.0, use self.wv.__contains__() instead).\n",
      "  import sys\n",
      "/Users/i331096/anaconda3/envs/py3/lib/python3.6/site-packages/ipykernel_launcher.py:8: DeprecationWarning: Call to deprecated `__getitem__` (Method will be removed in 4.0.0, use self.wv.__getitem__() instead).\n",
      "  \n"
     ]
    },
    {
     "name": "stdout",
     "output_type": "stream",
     "text": [
      "embedding matrix shape: (20001, 100)\n",
      "__________________________________________________________________________________________________\n",
      "Layer (type)                    Output Shape         Param #     Connected to                     \n",
      "==================================================================================================\n",
      "input_1 (InputLayer)            (None, 1000)         0                                            \n",
      "__________________________________________________________________________________________________\n",
      "embedding_1 (Embedding)         (None, 1000, 100)    2000100     input_1[0][0]                    \n",
      "__________________________________________________________________________________________________\n",
      "reshape_1 (Reshape)             (None, 1000, 100, 1) 0           embedding_1[0][0]                \n",
      "__________________________________________________________________________________________________\n",
      "conv2d_1 (Conv2D)               (None, 996, 1, 100)  50100       reshape_1[0][0]                  \n",
      "__________________________________________________________________________________________________\n",
      "conv2d_2 (Conv2D)               (None, 997, 1, 100)  40100       reshape_1[0][0]                  \n",
      "__________________________________________________________________________________________________\n",
      "conv2d_3 (Conv2D)               (None, 998, 1, 100)  30100       reshape_1[0][0]                  \n",
      "__________________________________________________________________________________________________\n",
      "max_pooling2d_1 (MaxPooling2D)  (None, 1, 1, 100)    0           conv2d_1[0][0]                   \n",
      "__________________________________________________________________________________________________\n",
      "max_pooling2d_2 (MaxPooling2D)  (None, 1, 1, 100)    0           conv2d_2[0][0]                   \n",
      "__________________________________________________________________________________________________\n",
      "max_pooling2d_3 (MaxPooling2D)  (None, 1, 1, 100)    0           conv2d_3[0][0]                   \n",
      "__________________________________________________________________________________________________\n",
      "concatenate_1 (Concatenate)     (None, 1, 1, 300)    0           max_pooling2d_1[0][0]            \n",
      "                                                                 max_pooling2d_2[0][0]            \n",
      "                                                                 max_pooling2d_3[0][0]            \n",
      "__________________________________________________________________________________________________\n",
      "flatten_1 (Flatten)             (None, 300)          0           concatenate_1[0][0]              \n",
      "__________________________________________________________________________________________________\n",
      "dropout_1 (Dropout)             (None, 300)          0           flatten_1[0][0]                  \n",
      "__________________________________________________________________________________________________\n",
      "dense_1 (Dense)                 (None, 20)           6020        dropout_1[0][0]                  \n",
      "==================================================================================================\n",
      "Total params: 2,126,420\n",
      "Trainable params: 126,320\n",
      "Non-trainable params: 2,000,100\n",
      "__________________________________________________________________________________________________\n"
     ]
    }
   ],
   "source": [
    "min_num_words = min(NUM_WORDS, len(word_index))\n",
    "embedding_matrix = np.zeros((min_num_words+1, EMBEDDING_DIM))\n",
    "\n",
    "for word, index in word_index.items():\n",
    "    if index > min_num_words:\n",
    "        continue\n",
    "    elif word in word2vec_model:\n",
    "            embedding_matrix[index] = word2vec_model[word]\n",
    "\n",
    "print('embedding matrix shape: {}'.format(embedding_matrix.shape))   \n",
    "embedding_layer = Embedding(min_num_words+1, EMBEDDING_DIM, weights=[embedding_matrix], input_length=MAX_LEN, \n",
    "                            trainable=False)\n",
    "text_cnn = text_CNN(embedding_layer)\n",
    "text_cnn.summary()\n"
   ]
  },
  {
   "cell_type": "code",
   "execution_count": 40,
   "metadata": {
    "scrolled": false
   },
   "outputs": [
    {
     "name": "stdout",
     "output_type": "stream",
     "text": [
      "Train on 9051 samples, validate on 2263 samples\n",
      "Epoch 1/60\n",
      "9051/9051 [==============================] - 79s 9ms/step - loss: 2.4541 - acc: 0.2577 - val_loss: 1.6329 - val_acc: 0.5042\n",
      "Epoch 2/60\n",
      "9051/9051 [==============================] - 78s 9ms/step - loss: 1.5745 - acc: 0.5068 - val_loss: 1.1919 - val_acc: 0.6434\n",
      "Epoch 3/60\n",
      "9051/9051 [==============================] - 77s 8ms/step - loss: 1.2408 - acc: 0.6140 - val_loss: 1.0265 - val_acc: 0.6942\n",
      "Epoch 4/60\n",
      "9051/9051 [==============================] - 78s 9ms/step - loss: 1.0574 - acc: 0.6673 - val_loss: 0.9028 - val_acc: 0.7313\n",
      "Epoch 5/60\n",
      "9051/9051 [==============================] - 78s 9ms/step - loss: 0.9327 - acc: 0.7084 - val_loss: 0.8733 - val_acc: 0.7269\n",
      "Epoch 6/60\n",
      "9051/9051 [==============================] - 78s 9ms/step - loss: 0.8387 - acc: 0.7420 - val_loss: 0.8753 - val_acc: 0.7123\n",
      "Epoch 7/60\n",
      "9051/9051 [==============================] - 78s 9ms/step - loss: 0.7448 - acc: 0.7659 - val_loss: 0.7857 - val_acc: 0.7583\n",
      "Epoch 8/60\n",
      "9051/9051 [==============================] - 78s 9ms/step - loss: 0.6825 - acc: 0.7918 - val_loss: 0.7576 - val_acc: 0.7729\n",
      "Epoch 9/60\n",
      "9051/9051 [==============================] - 78s 9ms/step - loss: 0.6119 - acc: 0.8096 - val_loss: 0.7411 - val_acc: 0.7715\n",
      "Epoch 10/60\n",
      "9051/9051 [==============================] - 78s 9ms/step - loss: 0.5691 - acc: 0.8244 - val_loss: 0.7020 - val_acc: 0.7905\n",
      "Epoch 11/60\n",
      "9051/9051 [==============================] - 77s 9ms/step - loss: 0.5217 - acc: 0.8424 - val_loss: 0.6933 - val_acc: 0.7901\n",
      "Epoch 12/60\n",
      "9051/9051 [==============================] - 77s 9ms/step - loss: 0.4925 - acc: 0.8520 - val_loss: 0.6553 - val_acc: 0.7963\n",
      "Epoch 13/60\n",
      "9051/9051 [==============================] - 77s 8ms/step - loss: 0.4435 - acc: 0.8631 - val_loss: 0.6768 - val_acc: 0.7905\n",
      "Epoch 14/60\n",
      "9051/9051 [==============================] - 77s 9ms/step - loss: 0.4289 - acc: 0.8679 - val_loss: 0.6583 - val_acc: 0.7976\n",
      "Epoch 15/60\n",
      "9051/9051 [==============================] - 77s 9ms/step - loss: 0.4081 - acc: 0.8769 - val_loss: 0.6378 - val_acc: 0.8042\n",
      "Epoch 16/60\n",
      "9051/9051 [==============================] - 77s 9ms/step - loss: 0.3888 - acc: 0.8838 - val_loss: 0.6230 - val_acc: 0.8078\n",
      "Epoch 17/60\n",
      "9051/9051 [==============================] - 77s 9ms/step - loss: 0.3496 - acc: 0.8927 - val_loss: 0.6521 - val_acc: 0.7954\n",
      "Epoch 18/60\n",
      "9051/9051 [==============================] - 77s 9ms/step - loss: 0.3259 - acc: 0.9009 - val_loss: 0.6316 - val_acc: 0.8078\n",
      "Epoch 19/60\n",
      "9051/9051 [==============================] - 77s 9ms/step - loss: 0.3175 - acc: 0.9023 - val_loss: 0.6253 - val_acc: 0.8113\n",
      "Epoch 20/60\n",
      "9051/9051 [==============================] - 77s 9ms/step - loss: 0.3191 - acc: 0.9001 - val_loss: 0.6129 - val_acc: 0.8148\n",
      "Epoch 21/60\n",
      "9051/9051 [==============================] - 77s 8ms/step - loss: 0.2929 - acc: 0.9125 - val_loss: 0.6259 - val_acc: 0.8100\n",
      "Epoch 22/60\n",
      "9051/9051 [==============================] - 77s 8ms/step - loss: 0.2744 - acc: 0.9178 - val_loss: 0.6100 - val_acc: 0.8193\n",
      "Epoch 23/60\n",
      "9051/9051 [==============================] - 77s 8ms/step - loss: 0.2689 - acc: 0.9167 - val_loss: 0.6518 - val_acc: 0.8144\n",
      "Epoch 24/60\n",
      "9051/9051 [==============================] - 77s 9ms/step - loss: 0.2556 - acc: 0.9238 - val_loss: 0.6121 - val_acc: 0.8148\n",
      "Epoch 25/60\n",
      "9051/9051 [==============================] - 79s 9ms/step - loss: 0.2405 - acc: 0.9274 - val_loss: 0.6181 - val_acc: 0.8237\n",
      "Epoch 26/60\n",
      "9051/9051 [==============================] - 77s 8ms/step - loss: 0.2322 - acc: 0.9305 - val_loss: 0.6160 - val_acc: 0.8100\n",
      "Epoch 27/60\n",
      "9051/9051 [==============================] - 77s 8ms/step - loss: 0.2414 - acc: 0.9301 - val_loss: 0.6069 - val_acc: 0.8162\n",
      "Epoch 28/60\n",
      "9051/9051 [==============================] - 77s 9ms/step - loss: 0.2062 - acc: 0.9377 - val_loss: 0.6191 - val_acc: 0.8188\n"
     ]
    }
   ],
   "source": [
    "# https://keras.io/getting-started/sequential-model-guide/#training\n",
    "early_stopping = EarlyStopping(monitor='val_acc', patience=3, mode='max')\n",
    "\n",
    "history = text_cnn.fit(x_sp_train_dl, y_sp_train_dl, validation_data=(x_sp_val_dl, y_sp_val_dl), epochs=60, batch_size=50,callbacks=[early_stopping])\n"
   ]
  },
  {
   "cell_type": "code",
   "execution_count": 41,
   "metadata": {
    "scrolled": false
   },
   "outputs": [
    {
     "data": {
      "image/png": "[encoded data removed]",
      "text/plain": [
       "<Figure size 432x288 with 1 Axes>"
      ]
     },
     "metadata": {},
     "output_type": "display_data"
    },
    {
     "data": {
      "image/png": "[encoded data removed]",
      "text/plain": [
       "<Figure size 432x288 with 1 Axes>"
      ]
     },
     "metadata": {},
     "output_type": "display_data"
    }
   ],
   "source": [
    "show_history(history.history)"
   ]
  },
  {
   "cell_type": "code",
   "execution_count": 42,
   "metadata": {},
   "outputs": [
    {
     "name": "stdout",
     "output_type": "stream",
     "text": [
      "7532/7532 [==============================] - 20s 3ms/step\n",
      "[0.9531315561389898, 0.7272968681898132]\n"
     ]
    }
   ],
   "source": [
    "print(text_cnn.evaluate(x_test_dl, y_test_dl, batch_size=50))"
   ]
  },
  {
   "cell_type": "code",
   "execution_count": null,
   "metadata": {},
   "outputs": [],
   "source": []
  },
  {
   "cell_type": "code",
   "execution_count": null,
   "metadata": {},
   "outputs": [],
   "source": []
  }
 ],
 "metadata": {
  "kernelspec": {
   "display_name": "Python 3",
   "language": "python",
   "name": "python3"
  },
  "language_info": {
   "codemirror_mode": {
    "name": "ipython",
    "version": 3
   },
   "file_extension": ".py",
   "mimetype": "text/x-python",
   "name": "python",
   "nbconvert_exporter": "python",
   "pygments_lexer": "ipython3",
   "version": "3.6.6"
  }
 },
 "nbformat": 4,
 "nbformat_minor": 2
}
