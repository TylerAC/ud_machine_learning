{
 "cells": [
  {
   "cell_type": "code",
   "execution_count": 1,
   "metadata": {},
   "outputs": [],
   "source": [
    "from sklearn.datasets import fetch_20newsgroups\n",
    "from sklearn.model_selection import train_test_split\n",
    "%matplotlib inline"
   ]
  },
  {
   "cell_type": "code",
   "execution_count": 7,
   "metadata": {},
   "outputs": [],
   "source": [
    "news_groups_train = fetch_20newsgroups(data_home='.', subset='train', remove=())\n",
    "news_groups_test = fetch_20newsgroups(data_home='.', subset='test', remove=())\n",
    "x_train, y_train = news_groups_train.data, news_groups_train.target\n",
    "x_train, x_val, y_train, y_val = train_test_split(x_train, y_train, test_size=0.2, random_state=0)\n",
    "x_test, y_test = news_groups_test.data, news_groups_test.target"
   ]
  },
  {
   "cell_type": "code",
   "execution_count": 8,
   "metadata": {},
   "outputs": [
    {
     "name": "stdout",
     "output_type": "stream",
     "text": [
      "['alt.atheism', 'comp.graphics', 'comp.os.ms-windows.misc', 'comp.sys.ibm.pc.hardware', 'comp.sys.mac.hardware', 'comp.windows.x', 'misc.forsale', 'rec.autos', 'rec.motorcycles', 'rec.sport.baseball', 'rec.sport.hockey', 'sci.crypt', 'sci.electronics', 'sci.med', 'sci.space', 'soc.religion.christian', 'talk.politics.guns', 'talk.politics.mideast', 'talk.politics.misc', 'talk.religion.misc']\n"
     ]
    }
   ],
   "source": [
    "print(news_groups_train.target_names)"
   ]
  },
  {
   "cell_type": "code",
   "execution_count": 12,
   "metadata": {},
   "outputs": [
    {
     "name": "stdout",
     "output_type": "stream",
     "text": [
      "20类新闻包样本总数 9051 2263 7532\n",
      "20类新闻包训练集总数: 11314 测试集总数: 7532\n",
      "训练集数: 9051\n",
      "验证集数: 2263\n",
      "测试集数: 7532\n"
     ]
    }
   ],
   "source": [
    "print(\"20类新闻包样本总数\", len(x_train), len(x_val), len(x_test))\n",
    "print(\"20类新闻包训练集总数:\", len(x_train) + len(x_val), \"测试集总数:\", len(x_test))\n",
    "print(\"训练集数:\", len(x_train))\n",
    "print(\"验证集数:\", len(x_val))\n",
    "print(\"测试集数:\", len(x_test))"
   ]
  },
  {
   "cell_type": "code",
   "execution_count": 14,
   "metadata": {},
   "outputs": [
    {
     "name": "stdout",
     "output_type": "stream",
     "text": [
      "From: adam@endor.uucp (Adam Shostack)\n",
      "Subject: Re: Israeli Terrorism\n",
      "Article-I.D.: das.1993Apr26.184547.20058\n",
      "Organization: Aiken Computation Lab, Harvard University\n",
      "Lines: 65\n",
      "\n",
      "In article <2BDAD779.24910@news.service.uci.edu> tclock@orion.oac.uci.edu (Tim Clock) writes:\n",
      ">In article <AMOSS.93Apr25163327@shuldig.cs.huji.ac.il> amoss@shuldig.cs.huji.ac.il (Amos Shapira) writes:\n",
      ">>cy779@cleveland.Freenet.Edu (Anas Omran) writes:\n",
      "\n",
      ">>Eh????  Could you please give me details about an event where a \"Neutral\n",
      ">>Observer\" was killed by purpose by an Israeli soldier?\n",
      "\n",
      ">Actually, I'm still trying to understand the self-justifying rationale\n",
      ">behind the recent murder of Ian Feinberg (?) in Gaza.\n",
      "\n",
      "\tHate to be simple minded about this Tim, but I think its\n",
      "really very simple.  He was a dirty Jew.  And the only good Jew, in\n",
      "some peoples mind, is a dead Jew.  Thats what 40 years of propaganda\n",
      "that fails to discriminate between Jew and Zionist will do.  Thats\n",
      "what 20 years of statements like the ones I've appended will do to\n",
      "someones mind.  They make people sick.  They drag down political\n",
      "discourse to the point where killing your opponent is an honorable way\n",
      "to resolve a dispute.\n",
      "\n",
      "\tWhat else can come of such demagogery?  Peace?\n",
      "\n",
      "Adam\n",
      "\n",
      "\n",
      "Arafat on political pluralism:\n",
      "\n",
      "\t``Any Palestinian leader who suggests ending the intifada\n",
      "\texposes himself to the bullets of his own people and\n",
      "\tendangers his life.  The PLO will know how to deal with\n",
      "\thim.''\n",
      "\t--- Arafat, Kuwaiti News Agency, 1/2/89\n",
      "\n",
      "Arafat on the massacre at Tienamin Square:\n",
      "\n",
      "\t``...  on behalf of the Arab Palestinian People, their\n",
      "        leadership, and myself...  [I] take this opportunity to express\n",
      "        extreme gratification that you were able to restore normal order\n",
      "        after the recent incidents in People's China.''\n",
      "\t--- Arafat in telegram sent to the head of the Chinese Communist Party\n",
      "\n",
      "Yassir Arafat, humanitarian:\n",
      "\n",
      "       ``Open fire on the new Jewish immigrants ...  be they from the\n",
      "       Soviet Union, Ethiopia, or anywhere else.  It would be a disgrace if\n",
      "       we did not lift a finger while herds of immigrants settle our\n",
      "       territory.  I want you to shoot...  It makes no difference if they\n",
      "       live in Jaffa or Jericho.  I give you explicit orders to open fire.\n",
      "       Do everything to stop the flow of immigration.''\n",
      "\t--- Yassir Arafat, Al Muharar (Lebanese weekly), April 10, 1990\n",
      "\n",
      "Yassir Arafat on genocide:\n",
      "\n",
      "\t``When the Arabs set off their volcano, there will only be Arabs in\n",
      "\tthis part of the world.  Our people will continue to fuel the torch\n",
      "\tof the revolution with rivers of blood until the whole of the\n",
      "\toccupied homeland is liberated...''\n",
      "\t--- Yasser Arafat, AP, 3/12/79\n",
      "\n",
      "\n",
      "\n",
      "\n",
      "Adam Shostack \t\t\t\t       adam@das.harvard.edu\n",
      "\n",
      "\"If we had a budget big enough for drugs and sexual favors, we sure\n",
      "wouldn't waste them on members of Congress...\"   -John Perry Barlow\n",
      "\n"
     ]
    }
   ],
   "source": [
    "print(x_train[0])"
   ]
  },
  {
   "cell_type": "code",
   "execution_count": 15,
   "metadata": {},
   "outputs": [
    {
     "name": "stdout",
     "output_type": "stream",
     "text": [
      "17\n"
     ]
    }
   ],
   "source": [
    "print(y_train[0])"
   ]
  },
  {
   "cell_type": "code",
   "execution_count": null,
   "metadata": {},
   "outputs": [],
   "source": []
  }
 ],
 "metadata": {
  "kernelspec": {
   "display_name": "Python 3",
   "language": "python",
   "name": "python3"
  },
  "language_info": {
   "codemirror_mode": {
    "name": "ipython",
    "version": 3
   },
   "file_extension": ".py",
   "mimetype": "text/x-python",
   "name": "python",
   "nbconvert_exporter": "python",
   "pygments_lexer": "ipython3",
   "version": "3.6.6"
  }
 },
 "nbformat": 4,
 "nbformat_minor": 2
}
